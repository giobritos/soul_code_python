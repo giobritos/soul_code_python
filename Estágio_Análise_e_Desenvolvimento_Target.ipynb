{
  "nbformat": 4,
  "nbformat_minor": 0,
  "metadata": {
    "colab": {
      "provenance": [],
      "authorship_tag": "ABX9TyOd/UWK4eSn0j7TXCytLo4R",
      "include_colab_link": true
    },
    "kernelspec": {
      "name": "python3",
      "display_name": "Python 3"
    },
    "language_info": {
      "name": "python"
    }
  },
  "cells": [
    {
      "cell_type": "markdown",
      "metadata": {
        "id": "view-in-github",
        "colab_type": "text"
      },
      "source": [
        "<a href=\"https://colab.research.google.com/github/giobritos/soul_code_python/blob/main/Est%C3%A1gio_An%C3%A1lise_e_Desenvolvimento_Target.ipynb\" target=\"_parent\"><img src=\"https://colab.research.google.com/assets/colab-badge.svg\" alt=\"Open In Colab\"/></a>"
      ]
    },
    {
      "cell_type": "markdown",
      "source": [
        "1) Observe o trecho de código abaixo:\n",
        "\n",
        "int INDICE = 13, SOMA = 0, K = 0;\n",
        "\n",
        "enquanto K < INDICE faça\n",
        "\n",
        "{\n",
        "\n",
        "K = K + 1;\n",
        "\n",
        "SOMA = SOMA + K;\n",
        "\n",
        "}\n",
        "\n",
        "imprimir(SOMA);\n",
        "\n",
        "\n",
        "\n",
        "Ao final do processamento, qual será o valor da variável SOMA?"
      ],
      "metadata": {
        "id": "_vcxpdrcJfiQ"
      }
    },
    {
      "cell_type": "markdown",
      "source": [
        "**Resposta:**\n",
        "**91**"
      ],
      "metadata": {
        "id": "P2CmMaWHLRXz"
      }
    },
    {
      "cell_type": "markdown",
      "source": [
        "\n",
        "2) Dado a sequência de Fibonacci, onde se inicia por 0 e 1 e o próximo valor sempre será a soma dos 2 valores anteriores (exemplo: 0, 1, 1, 2, 3, 5, 8, 13, 21, 34...), escreva um programa na linguagem que desejar onde, informado um número, ele calcule a sequência de Fibonacci e retorne uma mensagem avisando se o número informado pertence ou não a sequência.\n",
        "\n",
        "\n",
        "\n",
        "IMPORTANTE:\n",
        "\n",
        "Esse número pode ser informado através de qualquer entrada de sua preferência ou pode ser previamente definido no código;"
      ],
      "metadata": {
        "id": "yPk_t61_Jf3c"
      }
    },
    {
      "cell_type": "code",
      "source": [
        "def fibonacci(n):\n",
        "  if n <= 0:\n",
        "    return False\n",
        "  elif n == 1:\n",
        "    return True\n",
        "  else:\n",
        "    a = 0\n",
        "    b = 1\n",
        "    while b < n:\n",
        "      a, b = b, a + b\n",
        "    return b == n\n",
        "\n",
        "numero = int(input(\"Informe um número: \"))\n",
        "\n",
        "if fibonacci(numero):\n",
        "  print(f\"{numero} pertence à sequência de Fibonacci!\")\n",
        "else:\n",
        "  print(f\"{numero} não pertence à sequência de Fibonacci.\")"
      ],
      "metadata": {
        "colab": {
          "base_uri": "https://localhost:8080/"
        },
        "id": "dXMJMaHtJgLE",
        "outputId": "84fd93fd-1cef-457d-e3af-4f9d2e06f7dc"
      },
      "execution_count": 2,
      "outputs": [
        {
          "output_type": "stream",
          "name": "stdout",
          "text": [
            "Informe um número: 13\n",
            "13 pertence à sequência de Fibonacci!\n"
          ]
        }
      ]
    },
    {
      "cell_type": "markdown",
      "source": [
        "3) Descubra a lógica e complete o próximo elemento:\n",
        "\n",
        "\n",
        "\n",
        "a) 1, 3, 5, 7, ___\n",
        "\n",
        "b) 2, 4, 8, 16, 32, 64, ____\n",
        "\n",
        "c) 0, 1, 4, 9, 16, 25, 36, ____\n",
        "\n",
        "d) 4, 16, 36, 64, ____\n",
        "\n",
        "e) 1, 1, 2, 3, 5, 8, ____\n",
        "\n",
        "f) 2,10, 12, 16, 17, 18, 19, ____\n"
      ],
      "metadata": {
        "id": "43xptYClKEtA"
      }
    },
    {
      "cell_type": "markdown",
      "source": [
        "**Resposta:**\n",
        "\n",
        "a) 1, 3, 5, 7, **9**\n",
        "\n",
        "b) 2, 4, 8, 16, 32, 64, **128**\n",
        "\n",
        "c) 0, 1, 4, 9, 16, 25, 36, **49**\n",
        "\n",
        "d) 4, 16, 36, 64, **100**\n",
        "\n",
        "e) 1, 1, 2, 3, 5, 8, **13**\n",
        "\n",
        "f) 2,10, 12, 16, 17, 18, 19, **200**"
      ],
      "metadata": {
        "id": "hIMJINM-KGPl"
      }
    },
    {
      "cell_type": "markdown",
      "source": [
        "4 - Dois veículos (um carro e um caminhão) saem respectivamente de cidades opostas pela mesma rodovia. O carro de Ribeirão Preto em direção a Franca, a uma velocidade constante de 110 km/h e o caminhão de Franca em direção a Ribeirão Preto a uma velocidade constante de 80 km/h. Quando eles se cruzarem na rodovia, qual estará mais próximo a cidade de Ribeirão Preto?\n",
        "\n",
        "\n",
        "\n",
        "IMPORTANTE:\n",
        "\n",
        "a) Considerar a distância de 100km entre a cidade de Ribeirão Preto <-> Franca.\n",
        "\n",
        "b) Considerar 2 pedágios como obstáculo e que o caminhão leva 5 minutos a mais para passar em cada um deles e o carro possui tag de pedágio (Sem Parar)\n",
        "\n",
        "c) Explique como chegou no resultado."
      ],
      "metadata": {
        "id": "R_uKh0aeLIV8"
      }
    },
    {
      "cell_type": "markdown",
      "source": [
        "**Resposta:**\n",
        "**60,9km**"
      ],
      "metadata": {
        "id": "zyhVsxF6M_Xb"
      }
    },
    {
      "cell_type": "markdown",
      "source": [
        "**Explicação**\n",
        "\n",
        "Colocamos o ponto de referência em Ribeirão Preto, então podemos dizer que a equação horária do carro é:\n",
        "\n",
        "**x1 = v1*t**\n",
        "\n",
        "\n",
        "Já o caminhão saiu de um local 100 km distante do ponto de referência e está se aproximando dele, então sua equação horária é:\n",
        "\n",
        "**x2 = 100km-v2*t**\n",
        "\n",
        "\n",
        "Podemos calcular o tempo de viagem sem os obstáculos:\n",
        "\n",
        "**tso = 100km/(80km/h) = 1,25h**\n",
        "\n",
        "\n",
        "Porém o caminhão perde 5 minutos em cada pedágio que ele para, e ele para em dois adicionando 10 minutos (ou 0,17 horas) a sua viagem, fazendo com que o tempo de viagem para o caminhão seja de **1,25h+0,17h=1,42h**. Podemos então calcular a velocidade média do caminhão como sendo:\n",
        "\n",
        "**v2 = 100km/142h = 70,6km/h**\n",
        "\n",
        "\n",
        "Vamos agora igualar as equações horárias para achar o ponto em que o carro e o caminhão se cruzam:\n",
        "\n",
        "**t = x1/v1**\n",
        "\n",
        "**t = x2-100km/-v2**\n",
        "\n",
        "**x1 = x2**\n",
        "\n",
        "**x/v1 = x-100km/-v2**\n",
        "\n",
        "**-v2*x = v1*x-v1*100km**\n",
        "\n",
        "**x = v1*100km/v1+v2**\n",
        "\n",
        "**x = (110km/h)*100km/(110km/h)+(70,6km/h)**\n",
        "\n",
        "**x = 60,9km**"
      ],
      "metadata": {
        "id": "byQSea-BNWRl"
      }
    },
    {
      "cell_type": "markdown",
      "source": [
        "5) Escreva um programa que inverta os caracteres de um string.\n",
        "\n",
        "\n",
        "\n",
        "IMPORTANTE:\n",
        "\n",
        "a) Essa string pode ser informada através de qualquer entrada de sua preferência ou pode ser previamente definida no código;\n",
        "\n",
        "b) Evite usar funções prontas, como, por exemplo, reverse;"
      ],
      "metadata": {
        "id": "WTD3vPewL5_s"
      }
    },
    {
      "cell_type": "code",
      "source": [
        "string = input(\"Digite uma string: \")\n",
        "invertida = \"\"\n",
        "\n",
        "for i in range(len(string)-1,-1,-1):\n",
        "    invertida += string[i]\n",
        "\n",
        "print(\"String invertida: \", invertida)"
      ],
      "metadata": {
        "id": "lHgYVT6nL67M"
      },
      "execution_count": null,
      "outputs": []
    }
  ]
}