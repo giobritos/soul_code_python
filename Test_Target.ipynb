{
  "nbformat": 4,
  "nbformat_minor": 0,
  "metadata": {
    "colab": {
      "provenance": [],
      "authorship_tag": "ABX9TyPIgW2s71/YyzM76tzCvne5",
      "include_colab_link": true
    },
    "kernelspec": {
      "name": "python3",
      "display_name": "Python 3"
    },
    "language_info": {
      "name": "python"
    }
  },
  "cells": [
    {
      "cell_type": "markdown",
      "metadata": {
        "id": "view-in-github",
        "colab_type": "text"
      },
      "source": [
        "<a href=\"https://colab.research.google.com/github/giobritos/soul_code_python/blob/main/Test_Target.ipynb\" target=\"_parent\"><img src=\"https://colab.research.google.com/assets/colab-badge.svg\" alt=\"Open In Colab\"/></a>"
      ]
    },
    {
      "cell_type": "markdown",
      "source": [
        "2) Dado a sequência de Fibonacci, onde se inicia por 0 e 1 e o próximo valor sempre será a soma dos 2 valores anteriores (exemplo: 0, 1, 1, 2, 3, 5, 8, 13, 21, 34...), escreva um programa na linguagem que desejar onde, informado um número, ele calcule a sequência de Fibonacci e retorne uma mensagem avisando se o número informado pertence ou não a sequência.\n",
        "\n",
        "IMPORTANTE:\n",
        "Esse número pode ser informado através de qualquer entrada de sua preferência ou pode ser previamente definido no código;"
      ],
      "metadata": {
        "id": "Xi7-12HXA4VD"
      }
    },
    {
      "cell_type": "code",
      "execution_count": 1,
      "metadata": {
        "colab": {
          "base_uri": "https://localhost:8080/"
        },
        "id": "bh_yJigXApQs",
        "outputId": "83370bfd-a15a-4e36-d19a-91dc75804f8f"
      },
      "outputs": [
        {
          "output_type": "stream",
          "name": "stdout",
          "text": [
            "Informe um número: 34\n",
            "34 pertence à sequência de Fibonacci!\n"
          ]
        }
      ],
      "source": [
        "def fibonacci(n):\n",
        "  if n <= 0:\n",
        "    return False\n",
        "  elif n == 1:\n",
        "    return True\n",
        "  else:\n",
        "    a = 0\n",
        "    b = 1\n",
        "    while b < n:\n",
        "      a, b = b, a + b\n",
        "    return b == n\n",
        "\n",
        "numero = int(input(\"Informe um número: \"))\n",
        "\n",
        "if fibonacci(numero):\n",
        "  print(f\"{numero} pertence à sequência de Fibonacci!\")\n",
        "else:\n",
        "  print(f\"{numero} não pertence à sequência de Fibonacci.\")"
      ]
    },
    {
      "cell_type": "markdown",
      "source": [
        "3) Dado um vetor que guarda o valor de faturamento diário de uma distribuidora, faça um programa, na linguagem que desejar, que calcule e retorne:\n",
        "\n",
        "• O menor valor de faturamento ocorrido em um dia do mês;\n",
        "\n",
        "• O maior valor de faturamento ocorrido em um dia do mês;\n",
        "\n",
        "• Número de dias no mês em que o valor de faturamento diário foi superior à média mensal.\n",
        "\n",
        "\n",
        "IMPORTANTE:\n",
        "\n",
        "a) Usar o json ou xml disponível como fonte dos dados do faturamento mensal;\n",
        "\n",
        "b) Podem existir dias sem faturamento, como nos finais de semana e feriados. Estes dias devem ser ignorados no cálculo da média;"
      ],
      "metadata": {
        "id": "3ABg3WBTBtt_"
      }
    },
    {
      "cell_type": "code",
      "source": [
        "import json\n",
        "\n",
        "with open('dados.json') as f:\n",
        "    faturamento = json.load(f)\n",
        "\n",
        "dias = len(faturamento)\n",
        "soma_faturamento = 0\n",
        "dias_acima_media = 0\n",
        "\n",
        "menor_faturamento = faturamento[0]['valor']\n",
        "maior_faturamento = faturamento[0]['valor']\n",
        "\n",
        "for dia in faturamento:\n",
        "    if dia['valor'] < menor_faturamento:\n",
        "        menor_faturamento = dia['valor']\n",
        "    if dia['valor'] > maior_faturamento:\n",
        "        maior_faturamento = dia['valor']\n",
        "    if dia['valor'] > soma_faturamento / (dias - dias_acima_media):\n",
        "        dias_acima_media += 1\n",
        "    soma_faturamento += dia['valor']\n",
        "\n",
        "media_faturamento = soma_faturamento / dias\n",
        "dias_acima_media = dias_acima_media if dias_acima_media > 0 else \"Nenhum\"\n",
        "\n",
        "print(f\"Menor faturamento: {menor_faturamento}\")\n",
        "print(f\"Maior faturamento: {maior_faturamento}\")\n",
        "print(f\"Dias acima da média: {dias_acima_media}\")"
      ],
      "metadata": {
        "colab": {
          "base_uri": "https://localhost:8080/"
        },
        "id": "eUU26F_LBxDs",
        "outputId": "7157d65c-49ed-4456-8c2b-8c5b656973bc"
      },
      "execution_count": 2,
      "outputs": [
        {
          "output_type": "stream",
          "name": "stdout",
          "text": [
            "Menor faturamento: 0.0\n",
            "Maior faturamento: 48924.2448\n",
            "Dias acima da média: 12\n"
          ]
        }
      ]
    },
    {
      "cell_type": "markdown",
      "source": [
        "4) Dado o valor de faturamento mensal de uma distribuidora, detalhado por estado:\n",
        "\n",
        "SP – R$67.836,43\n",
        "\n",
        "RJ – R$36.678,66\n",
        "\n",
        "MG – R$29.229,88\n",
        "\n",
        "ES – R$27.165,48\n",
        "\n",
        "Outros – R$19.849,53\n",
        "\n",
        "\n",
        "Escreva um programa na linguagem que desejar onde calcule o percentual de representação que cada estado teve dentro do valor total mensal da distribuidora."
      ],
      "metadata": {
        "id": "_weYrLHrCb8G"
      }
    },
    {
      "cell_type": "code",
      "source": [
        "faturamento = {\"SP\": 67.83643, \"RJ\": 36.67866, \"MG\": 29.22988, \"ES\": 27.16548, \"Outros\": 19.84953}\n",
        "\n",
        "total_faturamento = sum(faturamento.values())\n",
        "\n",
        "for estado, valor in faturamento.items():\n",
        "    percentual = (valor / total_faturamento) * 100\n",
        "    print(f\"{estado}: {percentual:.2f}%\")"
      ],
      "metadata": {
        "colab": {
          "base_uri": "https://localhost:8080/"
        },
        "id": "EE2Sg9jACfLP",
        "outputId": "7c6a612c-68bd-45b0-ba45-b52efd1389fa"
      },
      "execution_count": 3,
      "outputs": [
        {
          "output_type": "stream",
          "name": "stdout",
          "text": [
            "SP: 37.53%\n",
            "RJ: 20.29%\n",
            "MG: 16.17%\n",
            "ES: 15.03%\n",
            "Outros: 10.98%\n"
          ]
        }
      ]
    },
    {
      "cell_type": "markdown",
      "source": [
        "5) Escreva um programa que inverta os caracteres de um string.\n",
        "\n",
        "IMPORTANTE:\n",
        "\n",
        "a) Essa string pode ser informada através de qualquer entrada de sua preferência ou pode ser previamente definida no código;\n",
        "\n",
        "b) Evite usar funções prontas, como, por exemplo, reverse;\n"
      ],
      "metadata": {
        "id": "AebRkHgxCvdF"
      }
    },
    {
      "cell_type": "code",
      "source": [
        "string = input(\"Digite uma string: \")\n",
        "invertida = \"\"\n",
        "\n",
        "for i in range(len(string)-1,-1,-1):\n",
        "    invertida += string[i]\n",
        "\n",
        "print(\"String invertida: \", invertida)"
      ],
      "metadata": {
        "colab": {
          "base_uri": "https://localhost:8080/"
        },
        "id": "dg2rx4NwCyxl",
        "outputId": "36638e87-2572-4fc8-bdad-59fc30431cf4"
      },
      "execution_count": 4,
      "outputs": [
        {
          "output_type": "stream",
          "name": "stdout",
          "text": [
            "Digite uma string: Eu quero ser Target Sistemas!\n",
            "String invertida:  !sametsiS tegraT res oreuq uE\n"
          ]
        }
      ]
    }
  ]
}